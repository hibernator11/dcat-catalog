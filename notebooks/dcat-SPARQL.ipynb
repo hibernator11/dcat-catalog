{
 "cells": [
  {
   "cell_type": "markdown",
   "id": "4fa29905",
   "metadata": {},
   "source": [
    "# Example dcat catalog\n",
    "\n"
   ]
  },
  {
   "cell_type": "markdown",
   "id": "aa916df5",
   "metadata": {},
   "source": [
    "### Preparation\n",
    "\n",
    "Import the libraries required to query the RDF dataset"
   ]
  },
  {
   "cell_type": "code",
   "execution_count": 1,
   "id": "3e64dbc5",
   "metadata": {},
   "outputs": [],
   "source": [
    "from rdflib import Graph"
   ]
  },
  {
   "cell_type": "markdown",
   "id": "24067243",
   "metadata": {},
   "source": [
    "### Loading the dataset descriptions"
   ]
  },
  {
   "cell_type": "code",
   "execution_count": 3,
   "id": "62b0a9b5",
   "metadata": {},
   "outputs": [],
   "source": [
    "# Create a Graph\n",
    "g_bnf = Graph().parse(\"datasets/bnf.ttl\")\n",
    "g_bnl = Graph().parse(\"datasets/bnl.ttl\")\n",
    "g_nls = Graph().parse(\"datasets/data-foundry-nls.ttl\")\n",
    "g_eu = Graph().parse(\"datasets/europeana.ttl\")\n",
    "g_harvard = Graph().parse(\"datasets/harvard.ttl\")\n",
    "g_kb = Graph().parse(\"datasets/kb.ttl\")\n",
    "g_lc = Graph().parse(\"datasets/lc.ttl\")\n",
    "g_moma = Graph().parse(\"datasets/moma.ttl\")\n",
    "g_rijks = Graph().parse(\"datasets/rijksmuseum.ttl\")\n",
    "g_zeri = Graph().parse(\"datasets/zeri.ttl\")"
   ]
  },
  {
   "cell_type": "markdown",
   "id": "54803fb7",
   "metadata": {},
   "source": [
    "### Join all the graphs"
   ]
  },
  {
   "cell_type": "code",
   "execution_count": 5,
   "id": "b700751a",
   "metadata": {},
   "outputs": [],
   "source": [
    "graph = g_bnf + g_bnl + g_nls + g_eu + g_harvard + g_kb + g_lc + g_moma + g_rijks + g_zeri"
   ]
  },
  {
   "cell_type": "markdown",
   "id": "8c8756a3",
   "metadata": {},
   "source": [
    "### Let's explore the content of the dataset using SPARQL\n",
    "\n",
    "The following examples describe how the dataset can be queried in a wide variety of forms.\n",
    "\n",
    "#### Let's retrieve the number of classes in the RDF dataset"
   ]
  },
  {
   "cell_type": "code",
   "execution_count": 6,
   "id": "19f0fd80",
   "metadata": {},
   "outputs": [
    {
     "name": "stdout",
     "output_type": "stream",
     "text": [
      "##### Number of classes:\n",
      "13\n"
     ]
    }
   ],
   "source": [
    "print('##### Number of classes:')\n",
    "\n",
    "# Query the data in g using SPARQL\n",
    "q = \"\"\"\n",
    "    SELECT (count(distinct ?class) as ?classes)\n",
    "    WHERE {\n",
    "        ?s a ?class .\n",
    "    }\n",
    "\"\"\"\n",
    "\n",
    "# Apply the query to the graph and iterate through results\n",
    "for r in graph.query(q):\n",
    "    print(r[\"classes\"])"
   ]
  },
  {
   "cell_type": "markdown",
   "id": "55571ad2",
   "metadata": {},
   "source": [
    "#### What classes are used in the dataset?"
   ]
  },
  {
   "cell_type": "code",
   "execution_count": 7,
   "id": "fb07a7f7",
   "metadata": {
    "scrolled": true
   },
   "outputs": [
    {
     "name": "stdout",
     "output_type": "stream",
     "text": [
      "##### Classes:\n",
      "http://www.w3.org/ns/prov#Plan\n",
      "http://www.w3.org/ns/dcat#Distribution\n",
      "http://www.w3.org/ns/prov#Person\n",
      "http://www.w3.org/ns/prov#Agent\n",
      "http://www.w3.org/ns/dcat#Dataset\n",
      "http://xmlns.com/foaf/0.1/Organization\n",
      "http://purl.org/dc/terms/PeriodOfTime\n",
      "http://www.w3.org/ns/prov#Organization\n",
      "http://www.w3.org/2004/02/skos/core#Concept\n",
      "http://www.w3.org/ns/prov#Activity\n",
      "http://www.w3.org/ns/dcat#DataService\n",
      "http://www.w3.org/ns/prov#Entity\n",
      "http://www.w3.org/ns/prov#Association\n"
     ]
    }
   ],
   "source": [
    "print('##### Classes:')\n",
    "\n",
    "# Query the data in g using SPARQL\n",
    "q = \"\"\"\n",
    "    SELECT distinct ?class\n",
    "    WHERE {\n",
    "        ?s a ?class .\n",
    "    }\n",
    "\"\"\"\n",
    "\n",
    "# Apply the query to the graph and iterate through results\n",
    "for r in graph.query(q):\n",
    "    print(r[\"class\"])"
   ]
  },
  {
   "cell_type": "markdown",
   "id": "2b5db07c",
   "metadata": {},
   "source": [
    "#### How many properties are used in the dataset?"
   ]
  },
  {
   "cell_type": "code",
   "execution_count": 8,
   "id": "79e6ec69",
   "metadata": {},
   "outputs": [
    {
     "name": "stdout",
     "output_type": "stream",
     "text": [
      "##### Number of properties:\n",
      "52\n"
     ]
    }
   ],
   "source": [
    "print('##### Number of properties:')\n",
    "\n",
    "# Query the data in g using SPARQL\n",
    "q = \"\"\"\n",
    "    SELECT (count(distinct ?prop) as ?properties)\n",
    "    WHERE {\n",
    "        ?s ?prop ?o .\n",
    "    }\n",
    "\"\"\"\n",
    "\n",
    "# Apply the query to the graph and iterate through results\n",
    "for r in graph.query(q):\n",
    "    print(r[\"properties\"])"
   ]
  },
  {
   "cell_type": "markdown",
   "id": "bd167a71",
   "metadata": {},
   "source": [
    "#### What are the properties used in the dataset?"
   ]
  },
  {
   "cell_type": "code",
   "execution_count": 9,
   "id": "b76d270b",
   "metadata": {},
   "outputs": [
    {
     "name": "stdout",
     "output_type": "stream",
     "text": [
      "##### Properties:\n",
      "http://www.w3.org/ns/dcat#landingPage\n",
      "http://purl.org/dc/terms/bibliographicCitation\n",
      "http://www.w3.org/ns/dcat#mediaType\n",
      "http://www.w3.org/ns/prov#startedAtTime\n",
      "http://www.w3.org/ns/dcat#compressFormat\n",
      "http://www.w3.org/ns/dcat#distribution\n",
      "http://www.w3.org/ns/prov#wasGeneratedBy\n",
      "http://www.w3.org/ns/dcat#byteSize\n",
      "http://www.w3.org/ns/prov#used\n",
      "http://www.w3.org/ns/dcat#downloadURL\n",
      "http://purl.org/dc/terms/license\n",
      "http://www.w3.org/1999/02/22-rdf-syntax-ns#type\n",
      "http://purl.org/dc/terms/type\n",
      "http://www.w3.org/2000/01/rdf-schema#label\n",
      "http://www.wikidata.org/prop/direct/P7014\n",
      "http://www.w3.org/ns/dcat#keyword\n",
      "http://xmlns.com/foaf/0.1/givenName\n",
      "http://www.w3.org/ns/dcat#endDate\n",
      "http://www.w3.org/2002/07/owl#sameAs\n",
      "http://purl.org/dc/terms/hasPart\n",
      "http://purl.org/dc/terms/conformsTo\n",
      "http://www.w3.org/ns/dcat#startDate\n",
      "http://www.w3.org/ns/dcat#contactPoint\n",
      "http://xmlns.com/foaf/0.1/mbox\n",
      "http://purl.org/dc/terms/title\n",
      "http://purl.org/dc/terms/isReferencedBy\n",
      "http://purl.org/dc/terms/issued\n",
      "http://www.w3.org/ns/prov#wasAttributedTo\n",
      "http://purl.org/dc/terms/language\n",
      "http://www.w3.org/2000/01/rdf-schema#seeAlso\n",
      "http://www.w3.org/ns/prov#generated\n",
      "http://purl.org/dc/terms/temporal\n",
      "http://purl.org/dc/terms/rights\n",
      "http://www.w3.org/ns/dcat#servesDataset\n",
      "http://rdaregistry.info/Elements/u/P60222\n",
      "http://www.w3.org/ns/dcat#endpointDescription\n",
      "http://www.w3.org/2004/02/skos/core#prefLabel\n",
      "http://rdaregistry.info/Elements/u/P60521\n",
      "http://purl.org/dc/terms/description\n",
      "http://xmlns.com/foaf/0.1/homePage\n",
      "http://www.wikidata.org/prop/direct/P366\n",
      "http://www.w3.org/ns/prov#actedOnBehalfOf\n",
      "http://purl.org/dc/terms/identifier\n",
      "http://www.w3.org/ns/dcat#endpointURL\n",
      "http://purl.org/dc/terms/publisher\n",
      "http://www.w3.org/ns/dcat#accessService\n",
      "http://www.w3.org/ns/prov#agent\n",
      "http://www.w3.org/ns/prov#wasUsedBy\n",
      "http://www.w3.org/ns/prov#hadPlan\n",
      "http://purl.org/dc/terms/modified\n",
      "http://www.w3.org/ns/prov#qualifiedAssociation\n",
      "http://www.w3.org/ns/prov#wasDerivedFrom\n"
     ]
    }
   ],
   "source": [
    "print('##### Properties:')\n",
    "\n",
    "# Query the data in g using SPARQL\n",
    "q = \"\"\"\n",
    "    SELECT distinct ?prop\n",
    "    WHERE {\n",
    "        ?s ?prop ?o .\n",
    "    }\n",
    "\"\"\"\n",
    "\n",
    "# Apply the query to the graph and iterate through results\n",
    "for r in graph.query(q):\n",
    "    print(r[\"prop\"])"
   ]
  },
  {
   "cell_type": "markdown",
   "id": "2781494e",
   "metadata": {},
   "source": [
    "#### How many external links are included in the dataset?"
   ]
  },
  {
   "cell_type": "code",
   "execution_count": 10,
   "id": "6f8e1ca9",
   "metadata": {},
   "outputs": [
    {
     "name": "stdout",
     "output_type": "stream",
     "text": [
      "##### Number of owl:sameAs properties:\n",
      "21\n"
     ]
    }
   ],
   "source": [
    "print('##### Number of owl:sameAs properties:')\n",
    "    \n",
    "# Query the data in g using SPARQL\n",
    "q = \"\"\"\n",
    "    SELECT (count(distinct ?sameAs) as ?total)\n",
    "    WHERE {\n",
    "        ?p owl:sameAs ?sameAs .\n",
    "    }\n",
    "\"\"\"\n",
    "\n",
    "# Apply the query to the graph and iterate through results\n",
    "for r in graph.query(q):\n",
    "    print(r[\"total\"])"
   ]
  },
  {
   "cell_type": "markdown",
   "id": "2a522d36",
   "metadata": {},
   "source": [
    "#### Let's explore the external links (owl:sameAs)"
   ]
  },
  {
   "cell_type": "code",
   "execution_count": 11,
   "id": "00b2c564",
   "metadata": {},
   "outputs": [
    {
     "name": "stdout",
     "output_type": "stream",
     "text": [
      "##### owl:sameAs properties:\n",
      "https://www.wikidata.org/wiki/Q234110\n",
      "https://www.wikidata.org/wiki/Q1670994\n",
      "https://www.wikidata.org/wiki/Q1526131\n",
      "https://www.wikidata.org/wiki/Q3783572\n",
      "https://www.wikidata.org/wiki/Q131454\n",
      "http://www.wikidata.org/entity/Q188740\n",
      "https://viaf.org/viaf/155463906/\n",
      "https://viaf.org/viaf/144524678/\n",
      "https://www.wikidata.org/wiki/Q856651\n",
      "https://orcid.org/0000-0002-8715-0129\n",
      "https://www.wikidata.org/wiki/Q190804\n",
      "https://viaf.org/viaf/102145970121932251120/\n",
      "https://www.wikidata.org/wiki/Q193563\n",
      "https://viaf.org/viaf/132075128/\n",
      "https://viaf.org/viaf/151962300/\n",
      "https://viaf.org/viaf/128460224/\n",
      "https://viaf.org/viaf/3061147967353484200005/\n",
      "https://viaf.org/viaf/137156173/\n",
      "http://www.wikidata.org/entity/Q50841422\n",
      "https://viaf.org/viaf/159624082/\n",
      "https://www.wikidata.org/wiki/Q108481932\n"
     ]
    }
   ],
   "source": [
    "print('##### owl:sameAs properties:')\n",
    "    \n",
    "# Query the data in g using SPARQL\n",
    "q = \"\"\"\n",
    "    SELECT distinct ?sameAs\n",
    "    WHERE {\n",
    "        ?p owl:sameAs ?sameAs .\n",
    "    }\n",
    "\"\"\"\n",
    "\n",
    "# Apply the query to the graph and iterate through results\n",
    "for r in graph.query(q):\n",
    "    print(r[\"sameAs\"])"
   ]
  },
  {
   "cell_type": "markdown",
   "id": "49e828cd",
   "metadata": {},
   "source": [
    "#### Let's compute the number of triples"
   ]
  },
  {
   "cell_type": "code",
   "execution_count": 12,
   "id": "bae40ae0",
   "metadata": {},
   "outputs": [
    {
     "name": "stdout",
     "output_type": "stream",
     "text": [
      "##### Number of triples:\n",
      "620\n"
     ]
    }
   ],
   "source": [
    "print('##### Number of triples:')\n",
    "    \n",
    "# Query the data in g using SPARQL\n",
    "q = \"\"\"\n",
    "    SELECT (COUNT(*) as ?triples) \n",
    "    WHERE { ?s ?p ?o } \n",
    "\"\"\"\n",
    "\n",
    "# Apply the query to the graph and iterate through results\n",
    "for r in graph.query(q):\n",
    "    print(r[\"triples\"])"
   ]
  },
  {
   "cell_type": "markdown",
   "id": "5bbe3c00",
   "metadata": {},
   "source": [
    "#### What is the number of organizations?"
   ]
  },
  {
   "cell_type": "code",
   "execution_count": 13,
   "id": "a9254113",
   "metadata": {},
   "outputs": [
    {
     "name": "stdout",
     "output_type": "stream",
     "text": [
      "##### Number of organizations:\n",
      "10\n"
     ]
    }
   ],
   "source": [
    "print('##### Number of organizations:')\n",
    "    \n",
    "# Query the data in g using SPARQL\n",
    "q = \"\"\"\n",
    "    PREFIX foaf: <http://xmlns.com/foaf/0.1/>\n",
    "    SELECT (COUNT(distinct ?s) as ?orgs) \n",
    "    WHERE {?s a foaf:Organization} \n",
    "\"\"\"\n",
    "\n",
    "# Apply the query to the graph and iterate through results\n",
    "for r in graph.query(q):\n",
    "    print(r[\"orgs\"])"
   ]
  }
 ],
 "metadata": {
  "kernelspec": {
   "display_name": "Python 3",
   "language": "python",
   "name": "python3"
  },
  "language_info": {
   "codemirror_mode": {
    "name": "ipython",
    "version": 3
   },
   "file_extension": ".py",
   "mimetype": "text/x-python",
   "name": "python",
   "nbconvert_exporter": "python",
   "pygments_lexer": "ipython3",
   "version": "3.9.12"
  }
 },
 "nbformat": 4,
 "nbformat_minor": 5
}
