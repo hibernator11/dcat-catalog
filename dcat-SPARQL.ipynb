{
 "cells": [
  {
   "cell_type": "markdown",
   "id": "4fa29905",
   "metadata": {},
   "source": [
    "# Example dcat catalog\n",
    "\n"
   ]
  },
  {
   "cell_type": "markdown",
   "id": "aa916df5",
   "metadata": {},
   "source": [
    "### Preparation\n",
    "\n",
    "Import the libraries required to query the RDF dataset"
   ]
  },
  {
   "cell_type": "code",
   "execution_count": 1,
   "id": "3e64dbc5",
   "metadata": {},
   "outputs": [],
   "source": [
    "from rdflib import Graph"
   ]
  },
  {
   "cell_type": "markdown",
   "id": "24067243",
   "metadata": {},
   "source": [
    "### Loading the RDF dataset"
   ]
  },
  {
   "cell_type": "code",
   "execution_count": 7,
   "id": "62b0a9b5",
   "metadata": {},
   "outputs": [],
   "source": [
    "# Create a Graph\n",
    "g = Graph().parse(\"data-foundry-nls.ttl\")"
   ]
  },
  {
   "cell_type": "markdown",
   "id": "8c8756a3",
   "metadata": {},
   "source": [
    "### Let's explore the content of the dataset using SPARQL\n",
    "\n",
    "The following examples describe how the dataset can be queried in a wide variety of forms.\n",
    "\n",
    "#### Let's retrieve the number of classes in the RDF dataset"
   ]
  },
  {
   "cell_type": "code",
   "execution_count": 8,
   "id": "19f0fd80",
   "metadata": {},
   "outputs": [
    {
     "name": "stdout",
     "output_type": "stream",
     "text": [
      "##### Number of classes:\n",
      "6\n"
     ]
    }
   ],
   "source": [
    "print('##### Number of classes:')\n",
    "\n",
    "# Query the data in g using SPARQL\n",
    "q = \"\"\"\n",
    "    SELECT (count(distinct ?class) as ?classes)\n",
    "    WHERE {\n",
    "        ?s a ?class .\n",
    "    }\n",
    "\"\"\"\n",
    "\n",
    "# Apply the query to the graph and iterate through results\n",
    "for r in g.query(q):\n",
    "    print(r[\"classes\"])"
   ]
  },
  {
   "cell_type": "markdown",
   "id": "55571ad2",
   "metadata": {},
   "source": [
    "#### What classes are used in the dataset?"
   ]
  },
  {
   "cell_type": "code",
   "execution_count": 9,
   "id": "fb07a7f7",
   "metadata": {
    "scrolled": true
   },
   "outputs": [
    {
     "name": "stdout",
     "output_type": "stream",
     "text": [
      "##### Classes:\n",
      "http://www.w3.org/ns/dcat#Dataset\n",
      "http://www.w3.org/ns/prov#Activity\n",
      "http://xmlns.com/foaf/0.1/Organization\n",
      "http://www.w3.org/ns/prov#Agent\n",
      "http://www.w3.org/ns/prov#Organization\n",
      "http://www.w3.org/ns/dcat#Distribution\n"
     ]
    }
   ],
   "source": [
    "print('##### Classes:')\n",
    "\n",
    "# Query the data in g using SPARQL\n",
    "q = \"\"\"\n",
    "    SELECT distinct ?class\n",
    "    WHERE {\n",
    "        ?s a ?class .\n",
    "    }\n",
    "\"\"\"\n",
    "\n",
    "# Apply the query to the graph and iterate through results\n",
    "for r in g.query(q):\n",
    "    print(r[\"class\"])"
   ]
  },
  {
   "cell_type": "markdown",
   "id": "2b5db07c",
   "metadata": {},
   "source": [
    "#### How many properties are used in the dataset?"
   ]
  },
  {
   "cell_type": "code",
   "execution_count": 10,
   "id": "79e6ec69",
   "metadata": {},
   "outputs": [
    {
     "name": "stdout",
     "output_type": "stream",
     "text": [
      "##### Number of properties:\n",
      "29\n"
     ]
    }
   ],
   "source": [
    "print('##### Number of properties:')\n",
    "\n",
    "# Query the data in g using SPARQL\n",
    "q = \"\"\"\n",
    "    SELECT (count(distinct ?prop) as ?properties)\n",
    "    WHERE {\n",
    "        ?s ?prop ?o .\n",
    "    }\n",
    "\"\"\"\n",
    "\n",
    "# Apply the query to the graph and iterate through results\n",
    "for r in g.query(q):\n",
    "    print(r[\"properties\"])"
   ]
  },
  {
   "cell_type": "markdown",
   "id": "bd167a71",
   "metadata": {},
   "source": [
    "#### What are the properties used in the dataset?"
   ]
  },
  {
   "cell_type": "code",
   "execution_count": 11,
   "id": "b76d270b",
   "metadata": {},
   "outputs": [
    {
     "name": "stdout",
     "output_type": "stream",
     "text": [
      "##### Properties:\n",
      "http://www.w3.org/2002/07/owl#sameAs\n",
      "http://purl.org/dc/terms/title\n",
      "http://www.w3.org/2000/01/rdf-schema#seeAlso\n",
      "http://purl.org/dc/terms/description\n",
      "http://www.w3.org/ns/dcat#distribution\n",
      "http://www.w3.org/ns/dcat#mediaType\n",
      "http://www.w3.org/ns/dcat#compressFormat\n",
      "http://purl.org/dc/terms/bibliographicCitation\n",
      "http://www.w3.org/ns/prov#used\n",
      "http://xmlns.com/foaf/0.1/mbox\n",
      "http://www.w3.org/1999/02/22-rdf-syntax-ns#type\n",
      "http://www.w3.org/ns/dcat#downloadURL\n",
      "http://www.w3.org/ns/dcat#byteSize\n",
      "http://www.w3.org/ns/dcat#keyword\n",
      "http://www.w3.org/ns/dcat#contactPoint\n",
      "http://www.w3.org/ns/prov#startedAtTime\n",
      "http://www.w3.org/ns/prov#wasGeneratedBy\n",
      "http://purl.org/dc/terms/language\n",
      "http://purl.org/dc/terms/conformsTo\n",
      "http://www.w3.org/ns/prov#generated\n",
      "http://www.w3.org/ns/dcat#landingPage\n",
      "http://purl.org/dc/terms/isReferencedBy\n",
      "http://xmlns.com/foaf/0.1/homePage\n",
      "http://www.w3.org/2000/01/rdf-schema#label\n",
      "http://purl.org/dc/terms/publisher\n",
      "http://xmlns.com/foaf/0.1/givenName\n",
      "http://www.w3.org/ns/prov#wasAttributedTo\n",
      "http://purl.org/dc/terms/type\n",
      "http://purl.org/dc/terms/license\n"
     ]
    }
   ],
   "source": [
    "print('##### Properties:')\n",
    "\n",
    "# Query the data in g using SPARQL\n",
    "q = \"\"\"\n",
    "    SELECT distinct ?prop\n",
    "    WHERE {\n",
    "        ?s ?prop ?o .\n",
    "    }\n",
    "\"\"\"\n",
    "\n",
    "# Apply the query to the graph and iterate through results\n",
    "for r in g.query(q):\n",
    "    print(r[\"prop\"])"
   ]
  },
  {
   "cell_type": "markdown",
   "id": "2781494e",
   "metadata": {},
   "source": [
    "#### How many external links are included in the dataset?"
   ]
  },
  {
   "cell_type": "code",
   "execution_count": 12,
   "id": "6f8e1ca9",
   "metadata": {},
   "outputs": [
    {
     "name": "stdout",
     "output_type": "stream",
     "text": [
      "##### Number of owl:sameAs properties:\n",
      "3\n"
     ]
    }
   ],
   "source": [
    "print('##### Number of owl:sameAs properties:')\n",
    "    \n",
    "# Query the data in g using SPARQL\n",
    "q = \"\"\"\n",
    "    SELECT (count(distinct ?sameAs) as ?total)\n",
    "    WHERE {\n",
    "        ?p owl:sameAs ?sameAs .\n",
    "    }\n",
    "\"\"\"\n",
    "\n",
    "# Apply the query to the graph and iterate through results\n",
    "for r in g.query(q):\n",
    "    print(r[\"total\"])"
   ]
  },
  {
   "cell_type": "markdown",
   "id": "2a522d36",
   "metadata": {},
   "source": [
    "#### Let's explore the external links (owl:sameAs)"
   ]
  },
  {
   "cell_type": "code",
   "execution_count": 13,
   "id": "00b2c564",
   "metadata": {},
   "outputs": [
    {
     "name": "stdout",
     "output_type": "stream",
     "text": [
      "##### owl:sameAs properties:\n",
      "http://www.wikidata.org/entity/Q50841422\n",
      "https://www.wikidata.org/wiki/Q1670994\n",
      "https://viaf.org/viaf/132075128/\n"
     ]
    }
   ],
   "source": [
    "print('##### owl:sameAs properties:')\n",
    "    \n",
    "# Query the data in g using SPARQL\n",
    "q = \"\"\"\n",
    "    SELECT distinct ?sameAs\n",
    "    WHERE {\n",
    "        ?p owl:sameAs ?sameAs .\n",
    "    }\n",
    "\"\"\"\n",
    "\n",
    "# Apply the query to the graph and iterate through results\n",
    "for r in g.query(q):\n",
    "    print(r[\"sameAs\"])"
   ]
  },
  {
   "cell_type": "markdown",
   "id": "49e828cd",
   "metadata": {},
   "source": [
    "#### Let's compute the number of triples"
   ]
  },
  {
   "cell_type": "code",
   "execution_count": 14,
   "id": "bae40ae0",
   "metadata": {},
   "outputs": [
    {
     "name": "stdout",
     "output_type": "stream",
     "text": [
      "##### Number of triples:\n",
      "56\n"
     ]
    }
   ],
   "source": [
    "print('##### Number of triples:')\n",
    "    \n",
    "# Query the data in g using SPARQL\n",
    "q = \"\"\"\n",
    "    SELECT (COUNT(*) as ?triples) \n",
    "    WHERE { ?s ?p ?o } \n",
    "\"\"\"\n",
    "\n",
    "# Apply the query to the graph and iterate through results\n",
    "for r in g.query(q):\n",
    "    print(r[\"triples\"])"
   ]
  },
  {
   "cell_type": "markdown",
   "id": "5bbe3c00",
   "metadata": {},
   "source": [
    "#### What is the number of organizations?"
   ]
  },
  {
   "cell_type": "code",
   "execution_count": 19,
   "id": "a9254113",
   "metadata": {},
   "outputs": [
    {
     "name": "stdout",
     "output_type": "stream",
     "text": [
      "##### Number of organizations:\n",
      "1\n"
     ]
    }
   ],
   "source": [
    "print('##### Number of organizations:')\n",
    "    \n",
    "# Query the data in g using SPARQL\n",
    "q = \"\"\"\n",
    "    PREFIX foaf: <http://xmlns.com/foaf/0.1/>\n",
    "    SELECT (COUNT(distinct ?s) as ?orgs) \n",
    "    WHERE {?s a foaf:Organization} \n",
    "\"\"\"\n",
    "\n",
    "# Apply the query to the graph and iterate through results\n",
    "for r in g.query(q):\n",
    "    print(r[\"orgs\"])"
   ]
  },
  {
   "cell_type": "code",
   "execution_count": 19,
   "id": "6096e4e0",
   "metadata": {},
   "outputs": [
    {
     "name": "stdout",
     "output_type": "stream",
     "text": [
      "##### group by authors:\n",
      "https://example.org/author/scottishscreencollection 699\n",
      "https://example.org/author/grampiantelevision 499\n",
      "https://example.org/organization/templarfilms 318\n",
      "https://example.org/author/edinburghcineandvideosocietyecvs 293\n",
      "https://example.org/author/scottishballet 171\n",
      "https://example.org/organization/filmsofscotlandcommittee 166\n",
      "https://example.org/author/scottishindependencereferendumcollection2014 157\n",
      "https://example.org/author/scottisheducationalfilmassociationsefa 148\n",
      "https://example.org/organization/campbellharperproductions 130\n",
      "https://example.org/organization/scottishamateurfilmfestivalsaff 117\n",
      "https://example.org/author/group5 85\n",
      "https://example.org/author/russellstanleylivingstone 63\n",
      "https://example.org/author/cocozzaenrico 62\n",
      "https://example.org/author/marshallfrankm 59\n",
      "https://example.org/author/elderjohnc 58\n",
      "https://example.org/author/mcconnelledwardeddie 54\n",
      "https://example.org/author/colonelarthureirvineandrichardirvinecollection 50\n",
      "https://example.org/author/nairnjamess 49\n",
      "https://example.org/author/taitmargaret 48\n",
      "https://example.org/author/glasgowcorporation 46\n",
      "https://example.org/organization/scottishfilms 45\n",
      "https://example.org/author/annandlouise 39\n",
      "https://example.org/author/harperalanjames 39\n",
      "https://example.org/author/taggartnan 39\n",
      "https://example.org/author/cooperhenry 38\n",
      "https://example.org/author/jayronaldl 37\n",
      "https://example.org/organization/greensfilmservice 37\n",
      "https://example.org/organization/ifascotland 37\n",
      "https://example.org/organization/elderdalrympleproductions 36\n",
      "https://example.org/author/mickeldouglas 35\n",
      "https://example.org/author/dicksonlouis 32\n",
      "https://example.org/author/ogamfilms 29\n",
      "https://example.org/author/brombergernest 28\n",
      "https://example.org/author/grigormurray 28\n",
      "https://example.org/organization/peliculafilms 27\n",
      "https://example.org/author/dalrymplejblake 23\n"
     ]
    }
   ],
   "source": [
    "print('##### group by authors:')\n",
    "    \n",
    "# Query the data in g using SPARQL\n",
    "q = \"\"\"\n",
    "    SELECT ?author (COUNT(distinct ?s) as ?count) \n",
    "    WHERE { ?s schema:author ?author} \n",
    "    GROUP BY ?author\n",
    "    HAVING (count(distinct ?s) > 20)\n",
    "    ORDER BY DESC(?count)\n",
    "\"\"\"\n",
    "\n",
    "# Apply the query to the graph and iterate through results\n",
    "for r in g.query(q):\n",
    "    print(str(r[\"author\"]) + \" \" + str(r[\"count\"]))"
   ]
  },
  {
   "cell_type": "markdown",
   "id": "5cb565a3",
   "metadata": {},
   "source": [
    "#### How many places are in the dataset?"
   ]
  },
  {
   "cell_type": "code",
   "execution_count": 20,
   "id": "67ee00b6",
   "metadata": {},
   "outputs": [
    {
     "name": "stdout",
     "output_type": "stream",
     "text": [
      "##### Number of places:\n",
      "44\n"
     ]
    }
   ],
   "source": [
    "print('##### Number of places:')\n",
    "    \n",
    "# Query the data in g using SPARQL\n",
    "q = \"\"\"\n",
    "    PREFIX dcterms: <http://purl.org/dc/terms/>\n",
    "    SELECT (COUNT(distinct ?place) as ?places) \n",
    "    WHERE { ?s dcterms:spatial ?place} \n",
    "\"\"\"\n",
    "\n",
    "# Apply the query to the graph and iterate through results\n",
    "for r in g.query(q):\n",
    "    print(r[\"places\"])"
   ]
  },
  {
   "cell_type": "markdown",
   "id": "3fd8d4d2",
   "metadata": {},
   "source": [
    "#### What are the most relevant places?"
   ]
  },
  {
   "cell_type": "code",
   "execution_count": 21,
   "id": "8e3004e7",
   "metadata": {},
   "outputs": [
    {
     "name": "stdout",
     "output_type": "stream",
     "text": [
      "##### group by place:\n",
      "https://example.org/location/glasgow 976\n",
      "https://example.org/location/edinburgh 686\n",
      "https://example.org/location/renfrewshire 288\n",
      "https://example.org/location/ayrshire 288\n",
      "https://example.org/location/lanarkshire 271\n",
      "https://example.org/location/fife 254\n",
      "https://example.org/location/aberdeen 248\n",
      "https://example.org/location/argyllshire 230\n",
      "https://example.org/location/aberdeenshire 216\n",
      "https://example.org/location/perth 201\n",
      "https://example.org/location/dunbartonshire 194\n",
      "https://example.org/location/dundee 142\n",
      "https://example.org/location/highlandsthe 140\n",
      "https://example.org/location/invernesshire 134\n",
      "https://example.org/location/westlothian 128\n",
      "https://example.org/location/innerhebrides 124\n",
      "https://example.org/location/outerhebrides 119\n",
      "https://example.org/location/dumfriesshire 118\n",
      "https://example.org/location/orkneyislands 117\n",
      "https://example.org/location/borders 108\n",
      "https://example.org/location/stirlingshire 98\n",
      "https://example.org/location/shetlandislands 86\n",
      "https://example.org/location/forthriver 85\n",
      "https://example.org/location/bute 78\n",
      "https://example.org/location/eastlothian 73\n",
      "https://example.org/location/morayshire 68\n",
      "https://example.org/location/ross-shire 66\n",
      "https://example.org/location/stirling 62\n",
      "https://example.org/location/midlothian 61\n",
      "https://example.org/location/roxburghshire 58\n",
      "https://example.org/location/caithness 57\n",
      "https://example.org/location/banff 57\n",
      "https://example.org/location/angus 55\n",
      "https://example.org/location/berwickshire 48\n",
      "https://example.org/location/selkirkshire 41\n",
      "https://example.org/location/sutherland 35\n",
      "https://example.org/location/wigtownshire 26\n",
      "https://example.org/location/peebles-shire 23\n"
     ]
    }
   ],
   "source": [
    "print('##### group by place:')\n",
    "    \n",
    "# Query the data in g using SPARQL\n",
    "q = \"\"\"\n",
    "    PREFIX dcterms: <http://purl.org/dc/terms/> \n",
    "    SELECT ?place (COUNT(distinct ?s) as ?count) \n",
    "    WHERE { ?s dcterms:spatial ?place} \n",
    "    GROUP BY ?place\n",
    "    HAVING (count(distinct ?s) > 20)\n",
    "    ORDER BY DESC(?count)\n",
    "\"\"\"\n",
    "\n",
    "# Apply the query to the graph and iterate through results\n",
    "for r in g.query(q):\n",
    "    print(str(r[\"place\"]) + \" \" + str(r[\"count\"]))    "
   ]
  },
  {
   "cell_type": "code",
   "execution_count": null,
   "id": "8eab9f7e",
   "metadata": {},
   "outputs": [],
   "source": []
  }
 ],
 "metadata": {
  "kernelspec": {
   "display_name": "Python 3",
   "language": "python",
   "name": "python3"
  },
  "language_info": {
   "codemirror_mode": {
    "name": "ipython",
    "version": 3
   },
   "file_extension": ".py",
   "mimetype": "text/x-python",
   "name": "python",
   "nbconvert_exporter": "python",
   "pygments_lexer": "ipython3",
   "version": "3.9.12"
  }
 },
 "nbformat": 4,
 "nbformat_minor": 5
}
